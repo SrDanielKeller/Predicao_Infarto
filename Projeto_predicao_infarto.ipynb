{
  "nbformat": 4,
  "nbformat_minor": 0,
  "metadata": {
    "colab": {
      "provenance": []
    },
    "kernelspec": {
      "name": "python3",
      "display_name": "Python 3"
    },
    "language_info": {
      "name": "python"
    }
  },
  "cells": [
    {
      "cell_type": "markdown",
      "source": [
        "## Universidade Cruzeiro do Sul\n",
        "\n",
        "\n",
        "## Ciência de Dados e Aprendizado de Máquina\n",
        "\n",
        "### 2º Semestre de 2022\n",
        "<br></br>\n",
        "\n",
        "# Relatório do Projeto"
      ],
      "metadata": {
        "id": "2MdBr7jPHX8Y"
      }
    },
    {
      "cell_type": "markdown",
      "source": [
        "## Grupo\n",
        "\n",
        "\n",
        "*   Nome Completo Integrante 1 | RGM : 112233-4\n",
        "*   Nome Completo Integrante 2 | RGM : 223344-5\n",
        "*   Nome Completo Integrante 3 | RGM : 556677-8"
      ],
      "metadata": {
        "id": "nFnNshNzHX8i"
      }
    },
    {
      "cell_type": "markdown",
      "source": [
        "---\n",
        "# Título/Nome do Projeto\n",
        "---\n",
        "\n",
        "<font color=\"yellow\">Obs. Remover os comentários em amarelo</font>"
      ],
      "metadata": {
        "id": "oTE2x1PFre0a"
      }
    },
    {
      "cell_type": "markdown",
      "source": [
        "## Resumo\n",
        "\n",
        "<font color=\"yellow\">**Resumo do tema do trabalho, dataset e dos resultados obtidos ~200 palavras. É a última coisa a ser escrita.**</font>\n",
        "\n",
        "Lorem ipsum dolor sit amet, consectetur adipiscing elit. Sed consequat ut sapien eu malesuada. Class aptent taciti sociosqu ad litora torquent per conubia nostra, per inceptos himenaeos. Suspendisse potenti. In hac habitasse platea dictumst. Aliquam ut aliquet sem. Donec in enim accumsan, sodales magna sed, maximus arcu. Donec consectetur nibh eu pretium faucibus. Integer ac dictum eros, in tempor dolor. Maecenas auctor lobortis varius. Vivamus ultrices erat vel neque consectetur porttitor. Nunc id dignissim purus, eu elementum urna. Etiam nec urna maximus, aliquam nibh a, molestie massa.\n",
        "\n",
        "Nullam elementum bibendum tristique. Phasellus orci felis, mollis quis consequat a, pretium eu mi. Quisque hendrerit sem at augue posuere, lobortis fermentum eros venenatis. Proin semper dolor at nunc porta fermentum. Integer mattis est leo, at consequat leo suscipit ac. Curabitur vestibulum varius vehicula. Integer non odio laoreet, convallis tellus at, accumsan eros. Fusce cursus, justo a viverra dictum, quam eros efficitur velit, ac consectetur dui sem vel nisi. Nunc accumsan justo sit amet enim dapibus, quis condimentum ex feugiat. Etiam sed finibus tortor. Mauris luctus sapien non mauris varius, in efficitur enim egestas. Morbi efficitur eget lorem id volutpat. Curabitur vehicula libero vel eros pharetra pulvinar. Vestibulum tempor faucibus malesuada."
      ],
      "metadata": {
        "id": "VM6gP-OpHX8j"
      }
    },
    {
      "cell_type": "markdown",
      "source": [
        "## Introdução \n",
        "\n",
        "<font color=\"yellow\">**Contextualize o dataset com a disciplina, explicando a origem do dataset e o que é um problema de classificação/regressão no contexto do dataset escolhido. Explique também em suas palavras o funcionamento dos algoritmos utilizados.**</font>\n",
        "\n",
        "Lorem ipsum dolor sit amet, consectetur adipiscing elit. Sed consequat ut sapien eu malesuada. Class aptent taciti sociosqu ad litora torquent per conubia nostra, per inceptos himenaeos. Suspendisse potenti. In hac habitasse platea dictumst. Aliquam ut aliquet sem. Donec in enim accumsan, sodales magna sed, maximus arcu. Donec consectetur nibh eu pretium faucibus. Integer ac dictum eros, in tempor dolor. Maecenas auctor lobortis varius. Vivamus ultrices erat vel neque consectetur porttitor. Nunc id dignissim purus, eu elementum urna. Etiam nec urna maximus, aliquam nibh a, molestie massa."
      ],
      "metadata": {
        "id": "xea89nClp4BS"
      }
    },
    {
      "cell_type": "markdown",
      "source": [
        "## Objetivo\n",
        "\n",
        "<font color=\"yellow\">**Explique como os algoritmos vistos em aula serão utilizados para resolver o problema proposto/encontrado no dataset.**</font>\n",
        "\n",
        "Lorem ipsum dolor sit amet, consectetur adipiscing elit. Sed consequat ut sapien eu malesuada. Class aptent taciti sociosqu ad litora torquent per conubia nostra, per inceptos himenaeos."
      ],
      "metadata": {
        "id": "Yj6LXiA6qxZr"
      }
    },
    {
      "cell_type": "markdown",
      "source": [
        "## Desenvolvimento\n",
        "\n",
        "<font color=\"yellow\">**Siga as estruturas de código utilizadas em aula para elaborar o desenvolvimento do projeto. Não se esqueça de intercalar células de código com células de texto, além de colocar comentários ao longo dos códigos elaborados.**</font>\n",
        "\n",
        "\n",
        "<font color=\"yellow\">**Lembre-se dos requisitos do projeto!**</font>"
      ],
      "metadata": {
        "id": "3gGBEwgOtQLk"
      }
    },
    {
      "cell_type": "markdown",
      "source": [
        "#### Parte 1 - Importando os dados"
      ],
      "metadata": {
        "id": "MkrDX_4htzg0"
      }
    },
    {
      "cell_type": "markdown",
      "source": [
        "Explicação sobre a imporatação do dataset..."
      ],
      "metadata": {
        "id": "I33x0TXQuUZc"
      }
    },
    {
      "cell_type": "code",
      "source": [
        "## Código ##"
      ],
      "metadata": {
        "id": "AgnLL7FCphWz"
      },
      "execution_count": null,
      "outputs": []
    },
    {
      "cell_type": "markdown",
      "source": [
        "Um pouco de texto explicando o que será feito..."
      ],
      "metadata": {
        "id": "lrPOSVaFuNUT"
      }
    },
    {
      "cell_type": "code",
      "source": [
        "## Um pouco mais de código ##"
      ],
      "metadata": {
        "id": "WMTqzGv3ukHf"
      },
      "execution_count": null,
      "outputs": []
    },
    {
      "cell_type": "markdown",
      "source": [
        "Um pouco mais de texto, e assim por diante..."
      ],
      "metadata": {
        "id": "mDOYFnjNul60"
      }
    },
    {
      "cell_type": "code",
      "source": [
        "## Código, código, código.... ##"
      ],
      "metadata": {
        "id": "fAZB7GHPzaC0"
      },
      "execution_count": null,
      "outputs": []
    },
    {
      "cell_type": "markdown",
      "source": [
        "#### Parte 2 - Implementação dos algoritmos"
      ],
      "metadata": {
        "id": "9YEUOKd7zL-v"
      }
    },
    {
      "cell_type": "code",
      "source": [],
      "metadata": {
        "id": "VyMKT2Ecuobs"
      },
      "execution_count": null,
      "outputs": []
    },
    {
      "cell_type": "markdown",
      "source": [
        "#### Parte 3 - ....."
      ],
      "metadata": {
        "id": "z6RNXQmSzTsX"
      }
    },
    {
      "cell_type": "markdown",
      "source": [
        "## Conclusão\n",
        "\n",
        "<font color=\"yellow\">**Apresentar qual o melhor modelo obtido, em relação as métricas calculadas. Quais foram os parametros que geraram o melhor resultado?\n",
        "Explicar como os resultados/modelos obtidos contribuem/ajudam na resolução do problema (relacionar com o objetivo**</font>\n",
        "\n",
        "Lorem ipsum dolor sit amet, consectetur adipiscing elit. Sed consequat ut sapien eu malesuada. Class aptent taciti sociosqu ad litora torquent per conubia nostra, per inceptos himenaeos. Suspendisse potenti. In hac habitasse platea dictumst. Aliquam ut aliquet sem. Donec in enim accumsan, sodales magna sed, maximus arcu. Donec consectetur nibh eu pretium faucibus. Integer ac dictum eros, in tempor dolor. Maecenas auctor lobortis varius. Vivamus ultrices erat vel neque consectetur porttitor. Nunc id dignissim purus, eu elementum urna. Etiam nec urna maximus, aliquam nibh a, molestie massa."
      ],
      "metadata": {
        "id": "eUJHidhButBm"
      }
    },
    {
      "cell_type": "markdown",
      "source": [
        "## Referências\n",
        "\n",
        "<font color=\"yellow\">**Qualquer material que for consultado para elaboração do projeto deve constar aqui. Desde links do wikipedia até os slides de aula, em ordem de utilização. EXEMPLO:**</font>\n",
        "\n",
        "1.   Slides de Aula - Aula 3.\n",
        "2.   Slides de Aula - Aula 4 - Slides 5 e 6.\n",
        "3.   Documentação do Scikit Learn - Toy Datasets: https://scikit-learn.org/stable/datasets/toy_dataset.html.\n",
        "4. Artigo Wikipedia - Perceptron : https://pt.wikipedia.org/wiki/Perceptron.\n",
        "5. FREUND, Yoav; SCHAPIRE, Robert E. Large margin classification using the perceptron algorithm. In: Proceedings of the eleventh annual conference on Computational learning theory. 1998. p. 209-217. <font color=\"yellow\">*</font>\n",
        "\n",
        "<font color=\"yellow\">*Obs.: Para artigos cientificos recomenda-se ABNT [NBR 6023]. Se econtrar o artigo no https://scholar.google.com.br/ e clicar em \"Citar\" ele te dá a formatação pronta em ABNT. Exemplo: https://scholar.google.com.br/scholar?hl=pt-BR&as_sdt=0%2C5&q=Large+Margin+Classification%3A+Using+the+Perceptron+Algorithm&btnG=#</font>\n",
        "\n",
        "\n",
        "\n"
      ],
      "metadata": {
        "id": "OVDPt8K2vTIF"
      }
    }
  ]
}